{
 "cells": [
  {
   "cell_type": "code",
   "execution_count": 1,
   "id": "1ed043ba",
   "metadata": {},
   "outputs": [],
   "source": [
    "import pandas as pd"
   ]
  },
  {
   "cell_type": "code",
   "execution_count": 2,
   "id": "1e7f0618",
   "metadata": {},
   "outputs": [
    {
     "name": "stdout",
     "output_type": "stream",
     "text": [
      "(249, 11)\n",
      "             name alpha-2 alpha-3  country-code     iso_3166-2   region  \\\n",
      "0     Afghanistan      AF     AFG             4  ISO 3166-2:AF     Asia   \n",
      "1   Åland Islands      AX     ALA           248  ISO 3166-2:AX   Europe   \n",
      "2         Albania      AL     ALB             8  ISO 3166-2:AL   Europe   \n",
      "3         Algeria      DZ     DZA            12  ISO 3166-2:DZ   Africa   \n",
      "4  American Samoa      AS     ASM            16  ISO 3166-2:AS  Oceania   \n",
      "\n",
      "        sub-region intermediate-region  region-code  sub-region-code  \\\n",
      "0    Southern Asia                 NaN        142.0             34.0   \n",
      "1  Northern Europe                 NaN        150.0            154.0   \n",
      "2  Southern Europe                 NaN        150.0             39.0   \n",
      "3  Northern Africa                 NaN          2.0             15.0   \n",
      "4        Polynesia                 NaN          9.0             61.0   \n",
      "\n",
      "   intermediate-region-code  \n",
      "0                       NaN  \n",
      "1                       NaN  \n",
      "2                       NaN  \n",
      "3                       NaN  \n",
      "4                       NaN  \n"
     ]
    }
   ],
   "source": [
    "# read the raw csv\n",
    "df = pd.read_csv('../data/raw/all.csv')\n",
    "\n",
    "print(df.shape)\n",
    "print(df.head())"
   ]
  },
  {
   "cell_type": "code",
   "execution_count": 3,
   "id": "6293a55d",
   "metadata": {},
   "outputs": [
    {
     "name": "stdout",
     "output_type": "stream",
     "text": [
      "(249, 4)\n",
      "             name alpha-2   region       sub-region\n",
      "0     Afghanistan      AF     Asia    Southern Asia\n",
      "1   Åland Islands      AX   Europe  Northern Europe\n",
      "2         Albania      AL   Europe  Southern Europe\n",
      "3         Algeria      DZ   Africa  Northern Africa\n",
      "4  American Samoa      AS  Oceania        Polynesia\n"
     ]
    }
   ],
   "source": [
    "# select only the columns needed\n",
    "df_region = df[['name', 'alpha-2', 'region', 'sub-region']]\n",
    "\n",
    "print(df_region.shape)\n",
    "print(df_region.head())"
   ]
  },
  {
   "cell_type": "code",
   "execution_count": 4,
   "id": "e371826b",
   "metadata": {},
   "outputs": [],
   "source": [
    "# save the df\n",
    "df_region.to_csv('../data/interim/region.csv', index=False)"
   ]
  },
  {
   "cell_type": "code",
   "execution_count": 5,
   "id": "159d0f25",
   "metadata": {},
   "outputs": [
    {
     "name": "stdout",
     "output_type": "stream",
     "text": [
      "                          name          null_columns\n",
      "8                   Antarctica  [region, sub-region]\n",
      "153                    Namibia             [alpha-2]\n",
      "217  Taiwan, Province of China  [region, sub-region]\n"
     ]
    }
   ],
   "source": [
    "# flag rows where any of the three columns is null\n",
    "null_mask = df_region[['alpha-2','region','sub-region']].isnull().any(axis=1)\n",
    "\n",
    "# slice out the bad (?) rows\n",
    "bad_row = df_region.loc[null_mask].copy()\n",
    "bad_row['null_columns'] = bad_row.apply(\n",
    "    lambda row: [\n",
    "        col for col in ['alpha-2','region','sub-region']\n",
    "        if pd.isnull(row[col])\n",
    "        ],\n",
    "    axis=1\n",
    ")\n",
    "\n",
    "print(bad_row[['name','null_columns']])"
   ]
  },
  {
   "cell_type": "code",
   "execution_count": 6,
   "id": "68cf112a",
   "metadata": {},
   "outputs": [
    {
     "name": "stdout",
     "output_type": "stream",
     "text": [
      "                          name alpha-2      region          sub-region\n",
      "8                   Antarctica      AQ  Antarctica          Antarctica\n",
      "153                    Namibia      NA      Africa  Sub-Saharan Africa\n",
      "217  Taiwan, Province of China      TW        Asia        Eastern Asia\n"
     ]
    }
   ],
   "source": [
    "# ensure independence\n",
    "df_region_corrected = df_region.copy()\n",
    "\n",
    "# for Antarctica\n",
    "df_region_corrected.loc[\n",
    "    df_region_corrected['name'] == 'Antarctica',\n",
    "    ['region', 'sub-region']\n",
    "] = ['Antarctica', 'Antarctica']\n",
    "\n",
    "# for Namibia\n",
    "df_region_corrected.loc[\n",
    "    df_region_corrected['name'] == 'Namibia',\n",
    "    'alpha-2'\n",
    "] = 'NA'\n",
    "\n",
    "# for Taiwan\n",
    "df_region_corrected.loc[\n",
    "    df_region_corrected['name'] == 'Taiwan, Province of China',\n",
    "    ['region', 'sub-region']\n",
    "] = ['Asia', 'Eastern Asia']\n",
    "\n",
    "print(df_region_corrected.loc[\n",
    "    df_region_corrected['name'].isin([\n",
    "        'Antarctica',\n",
    "        'Namibia',\n",
    "        'Taiwan, Province of China'\n",
    "    ])\n",
    "])"
   ]
  },
  {
   "cell_type": "code",
   "execution_count": 7,
   "id": "c1009e4d",
   "metadata": {},
   "outputs": [],
   "source": [
    "# save the corrected df\n",
    "df_region_corrected.to_csv('../data/interim/region_corrected.csv', index=False)"
   ]
  },
  {
   "cell_type": "code",
   "execution_count": 8,
   "id": "fcfe1939",
   "metadata": {},
   "outputs": [
    {
     "name": "stdout",
     "output_type": "stream",
     "text": [
      "Africa\n",
      "    Northern Africa\n",
      "    Sub-Saharan Africa\n",
      "\n",
      "Americas\n",
      "    Latin America and the Caribbean\n",
      "    Northern America\n",
      "\n",
      "Antarctica\n",
      "    Antarctica\n",
      "\n",
      "Asia\n",
      "    Southern Asia\n",
      "    Western Asia\n",
      "    South-eastern Asia\n",
      "    Eastern Asia\n",
      "    Central Asia\n",
      "\n",
      "Europe\n",
      "    Northern Europe\n",
      "    Southern Europe\n",
      "    Western Europe\n",
      "    Eastern Europe\n",
      "\n",
      "Oceania\n",
      "    Polynesia\n",
      "    Australia and New Zealand\n",
      "    Melanesia\n",
      "    Micronesia\n",
      "\n"
     ]
    }
   ],
   "source": [
    "# ensure independence\n",
    "df_market_region = df_region_corrected.copy()\n",
    "\n",
    "# group by region and collect unique sub-regions\n",
    "subregions_by_region = (df_market_region.groupby('region')['sub-region'].unique().sort_index())\n",
    "\n",
    "for region, subregions in subregions_by_region.items():\n",
    "    print(region)\n",
    "    for sub in subregions:\n",
    "        print(f\"    {sub}\")\n",
    "    print()"
   ]
  },
  {
   "cell_type": "code",
   "execution_count": 9,
   "id": "9c1c870a",
   "metadata": {},
   "outputs": [
    {
     "name": "stdout",
     "output_type": "stream",
     "text": [
      "             name alpha-2   region       sub-region market-region\n",
      "0     Afghanistan      AF     Asia    Southern Asia          APAC\n",
      "1   Åland Islands      AX   Europe  Northern Europe          EMEA\n",
      "2         Albania      AL   Europe  Southern Europe          EMEA\n",
      "3         Algeria      DZ   Africa  Northern Africa          EMEA\n",
      "4  American Samoa      AS  Oceania        Polynesia          APAC\n"
     ]
    }
   ],
   "source": [
    "import numpy as np\n",
    "\n",
    "# map sub-regions per market\n",
    "apac_subregions = [\n",
    "    'Eastern Asia', 'South-eastern Asia', 'Southern Asia',\n",
    "    'Central Asia', 'Western Asia',\n",
    "    'Polynesia', 'Australia and New Zealand',\n",
    "    'Melanesia', 'Micronesia'\n",
    "]\n",
    "latam_subregions = ['Latin America and the Caribbean']\n",
    "na_subregions   = ['Northern America']\n",
    "emea_subregions = [\n",
    "    'Northern Europe', 'Southern Europe', 'Western Europe', 'Eastern Europe',\n",
    "    'Northern Africa', 'Sub-Saharan Africa'\n",
    "]\n",
    "\n",
    "# conditions and corresponding market-region\n",
    "conditions = [\n",
    "    df_market_region['sub-region'].isin(apac_subregions),\n",
    "    df_market_region['sub-region'].isin(latam_subregions),\n",
    "    df_market_region['sub-region'].isin(na_subregions),\n",
    "    df_market_region['sub-region'].isin(emea_subregions)\n",
    "]\n",
    "choices = [\n",
    "    'APAC',\n",
    "    'LATAM',\n",
    "    'NA',\n",
    "    'EMEA'\n",
    "]\n",
    "\n",
    "# create new column\n",
    "df_market_region['market-region'] = np.select(conditions, choices, default='Other') # this one should be for Antarctica\n",
    "\n",
    "print(df_market_region.head())"
   ]
  },
  {
   "cell_type": "code",
   "execution_count": 10,
   "id": "0382923c",
   "metadata": {},
   "outputs": [
    {
     "name": "stdout",
     "output_type": "stream",
     "text": [
      "['APAC' 'EMEA' 'LATAM' 'Other' 'NA']\n"
     ]
    }
   ],
   "source": [
    "# check the unique values to confirm\n",
    "print(df_market_region['market-region'].unique())"
   ]
  },
  {
   "cell_type": "code",
   "execution_count": 11,
   "id": "b556638c",
   "metadata": {},
   "outputs": [
    {
     "name": "stdout",
     "output_type": "stream",
     "text": [
      "         name      region  sub-region\n",
      "8  Antarctica  Antarctica  Antarctica\n"
     ]
    }
   ],
   "source": [
    "# check which countries have the 'Other' market-region\n",
    "other_countries = df_market_region[df_market_region['market-region'] == 'Other']\n",
    "\n",
    "print(other_countries[['name', 'region', 'sub-region']])"
   ]
  },
  {
   "cell_type": "code",
   "execution_count": 12,
   "id": "73c0e28d",
   "metadata": {},
   "outputs": [],
   "source": [
    "# save the df\n",
    "df_market_region.to_csv('../data/processed/market_region.csv', index=False)\n",
    "df_market_region.to_excel('../data/processed/market_region.xlsx', index=False)"
   ]
  }
 ],
 "metadata": {
  "kernelspec": {
   "display_name": "Python 3",
   "language": "python",
   "name": "python3"
  },
  "language_info": {
   "codemirror_mode": {
    "name": "ipython",
    "version": 3
   },
   "file_extension": ".py",
   "mimetype": "text/x-python",
   "name": "python",
   "nbconvert_exporter": "python",
   "pygments_lexer": "ipython3",
   "version": "3.13.3"
  }
 },
 "nbformat": 4,
 "nbformat_minor": 5
}
