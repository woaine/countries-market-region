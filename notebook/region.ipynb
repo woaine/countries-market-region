{
 "cells": [
  {
   "cell_type": "code",
   "execution_count": 1,
   "id": "1ed043ba",
   "metadata": {},
   "outputs": [],
   "source": [
    "import pandas as pd"
   ]
  },
  {
   "cell_type": "code",
   "execution_count": 2,
   "id": "1e7f0618",
   "metadata": {},
   "outputs": [
    {
     "name": "stdout",
     "output_type": "stream",
     "text": [
      "(249, 11)\n",
      "             name alpha-2 alpha-3  country-code     iso_3166-2   region  \\\n",
      "0     Afghanistan      AF     AFG             4  ISO 3166-2:AF     Asia   \n",
      "1   Åland Islands      AX     ALA           248  ISO 3166-2:AX   Europe   \n",
      "2         Albania      AL     ALB             8  ISO 3166-2:AL   Europe   \n",
      "3         Algeria      DZ     DZA            12  ISO 3166-2:DZ   Africa   \n",
      "4  American Samoa      AS     ASM            16  ISO 3166-2:AS  Oceania   \n",
      "\n",
      "        sub-region intermediate-region  region-code  sub-region-code  \\\n",
      "0    Southern Asia                 NaN        142.0             34.0   \n",
      "1  Northern Europe                 NaN        150.0            154.0   \n",
      "2  Southern Europe                 NaN        150.0             39.0   \n",
      "3  Northern Africa                 NaN          2.0             15.0   \n",
      "4        Polynesia                 NaN          9.0             61.0   \n",
      "\n",
      "   intermediate-region-code  \n",
      "0                       NaN  \n",
      "1                       NaN  \n",
      "2                       NaN  \n",
      "3                       NaN  \n",
      "4                       NaN  \n"
     ]
    }
   ],
   "source": [
    "# read the raw csv\n",
    "df = pd.read_csv('../data/raw/all.csv')\n",
    "\n",
    "print(df.shape)\n",
    "print(df.head())"
   ]
  },
  {
   "cell_type": "code",
   "execution_count": 3,
   "id": "6293a55d",
   "metadata": {},
   "outputs": [
    {
     "name": "stdout",
     "output_type": "stream",
     "text": [
      "(249, 4)\n",
      "             name alpha-2   region       sub-region\n",
      "0     Afghanistan      AF     Asia    Southern Asia\n",
      "1   Åland Islands      AX   Europe  Northern Europe\n",
      "2         Albania      AL   Europe  Southern Europe\n",
      "3         Algeria      DZ   Africa  Northern Africa\n",
      "4  American Samoa      AS  Oceania        Polynesia\n"
     ]
    }
   ],
   "source": [
    "# select only the columns needed\n",
    "df_region = df[['name', 'alpha-2', 'region', 'sub-region']]\n",
    "\n",
    "print(df_region.shape)\n",
    "print(df_region.head())"
   ]
  },
  {
   "cell_type": "code",
   "execution_count": 4,
   "id": "e371826b",
   "metadata": {},
   "outputs": [],
   "source": [
    "# save the df\n",
    "df_region.to_csv('../data/interim/region.csv', index=False)"
   ]
  }
 ],
 "metadata": {
  "kernelspec": {
   "display_name": "Python 3",
   "language": "python",
   "name": "python3"
  },
  "language_info": {
   "codemirror_mode": {
    "name": "ipython",
    "version": 3
   },
   "file_extension": ".py",
   "mimetype": "text/x-python",
   "name": "python",
   "nbconvert_exporter": "python",
   "pygments_lexer": "ipython3",
   "version": "3.13.3"
  }
 },
 "nbformat": 4,
 "nbformat_minor": 5
}
